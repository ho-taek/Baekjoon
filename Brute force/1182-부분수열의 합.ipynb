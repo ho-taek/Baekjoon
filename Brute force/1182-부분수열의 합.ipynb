{
 "cells": [
  {
   "cell_type": "code",
   "execution_count": 1,
   "metadata": {},
   "outputs": [
    {
     "name": "stdout",
     "output_type": "stream",
     "text": [
      "5 0\n",
      "0 0 0 0 0\n",
      "15\n"
     ]
    }
   ],
   "source": [
    "def subsequence(a,b):\n",
    "    global count\n",
    "    \n",
    "    if b == n+1:\n",
    "        return\n",
    "    for i in range(a,n):\n",
    "        if i+b == n:\n",
    "            if sum(stack[i:i+b]) == s:\n",
    "                count +=1\n",
    "                return subsequence(a,b+1)\n",
    "            else:\n",
    "                return subsequence(a,b+1)\n",
    "        \n",
    "        elif sum(stack[i:i+b]) == s:\n",
    "                    count +=1            \n",
    "                    \n",
    "n,s = map(int,input().split())\n",
    "stack = list(map(int,input().split()))\n",
    "count = 0\n",
    "\n",
    "subsequence(0,1)\n",
    "print(count)\n",
    "        "
   ]
  },
  {
   "cell_type": "code",
   "execution_count": 2,
   "metadata": {},
   "outputs": [
    {
     "ename": "ImportError",
     "evalue": "cannot import name 'combination' from 'itertools' (unknown location)",
     "output_type": "error",
     "traceback": [
      "\u001b[1;31m---------------------------------------------------------------------------\u001b[0m",
      "\u001b[1;31mImportError\u001b[0m                               Traceback (most recent call last)",
      "\u001b[1;32m<ipython-input-2-fbf02309b1d4>\u001b[0m in \u001b[0;36m<module>\u001b[1;34m\u001b[0m\n\u001b[1;32m----> 1\u001b[1;33m \u001b[1;32mfrom\u001b[0m \u001b[0mitertools\u001b[0m \u001b[1;32mimport\u001b[0m \u001b[0mcombination\u001b[0m\u001b[1;33m\u001b[0m\u001b[1;33m\u001b[0m\u001b[0m\n\u001b[0m\u001b[0;32m      2\u001b[0m \u001b[1;33m\u001b[0m\u001b[0m\n",
      "\u001b[1;31mImportError\u001b[0m: cannot import name 'combination' from 'itertools' (unknown location)"
     ]
    }
   ],
   "source": [
    "from itertools import combinations\n",
    "\n",
    "n,s = map(int,input().split())\n",
    "\n",
    "li = list(map(int,input().split()))\n",
    "\n",
    "count = 0\n",
    "for i in range(1, n+1):\n",
    "    com = combinations(li,i)\n",
    "    for j in list(com):\n",
    "        if sum(j) == s:\n",
    "            count += 1\n",
    "print(count)\n",
    "\n",
    "\n"
   ]
  },
  {
   "cell_type": "code",
   "execution_count": null,
   "metadata": {},
   "outputs": [],
   "source": []
  }
 ],
 "metadata": {
  "kernelspec": {
   "display_name": "Python 3",
   "language": "python",
   "name": "python3"
  },
  "language_info": {
   "codemirror_mode": {
    "name": "ipython",
    "version": 3
   },
   "file_extension": ".py",
   "mimetype": "text/x-python",
   "name": "python",
   "nbconvert_exporter": "python",
   "pygments_lexer": "ipython3",
   "version": "3.8.3"
  }
 },
 "nbformat": 4,
 "nbformat_minor": 4
}
