{
 "cells": [
  {
   "cell_type": "code",
   "execution_count": null,
   "metadata": {},
   "outputs": [],
   "source": [
    "import sys\n",
    "a = int(sys.stdin.readline())\n",
    "\n",
    "deque = []\n",
    "for _ in range(a):\n",
    "    b = sys.stdin.readline().split()\n",
    "    if b[0] == \"push_front\":\n",
    "        deque.insert(0,b[1])\n",
    "        \n",
    "    elif b[0] == \"push_back\":\n",
    "        deque.append(b[1])\n",
    "        \n",
    "    elif b[0] == \"pop_front\":\n",
    "        if len(deque) == 0:\n",
    "            print(-1)  \n",
    "        else:\n",
    "            print(deque.pop(0))\n",
    "        \n",
    "    elif b[0] == \"pop_back\":\n",
    "        if len(deque) == 0:\n",
    "            print(-1)\n",
    "        else:\n",
    "            print(deque.pop(-1))\n",
    "        \n",
    "    elif b[0] == \"size\":\n",
    "        print(len(deque))\n",
    "        \n",
    "    elif b[0] == \"empty\":\n",
    "        if len(deque) == 0:\n",
    "            print(1)\n",
    "        else:\n",
    "            print(0)\n",
    "            \n",
    "    elif b[0] == \"front\":\n",
    "        if len(deque) == 0:\n",
    "            print(-1)\n",
    "        else:\n",
    "            print(deque[0])\n",
    "            \n",
    "    elif b[0] == \"back\":\n",
    "        if len(deque) == 0:\n",
    "            print(-1)\n",
    "        else:\n",
    "            print(deque[-1])"
   ]
  }
 ],
 "metadata": {
  "kernelspec": {
   "display_name": "Python 3",
   "language": "python",
   "name": "python3"
  },
  "language_info": {
   "codemirror_mode": {
    "name": "ipython",
    "version": 3
   },
   "file_extension": ".py",
   "mimetype": "text/x-python",
   "name": "python",
   "nbconvert_exporter": "python",
   "pygments_lexer": "ipython3",
   "version": "3.8.3"
  }
 },
 "nbformat": 4,
 "nbformat_minor": 4
}
