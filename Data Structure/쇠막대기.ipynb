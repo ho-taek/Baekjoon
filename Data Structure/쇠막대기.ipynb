{
 "cells": [
  {
   "cell_type": "code",
   "execution_count": 11,
   "metadata": {},
   "outputs": [
    {
     "name": "stdout",
     "output_type": "stream",
     "text": [
      "()(((()())(())()))(())\n",
      "28\n"
     ]
    }
   ],
   "source": [
    "a = list(input())\n",
    "\n",
    "count = 0\n",
    "num = 0\n",
    "for i in range(len(a)):\n",
    "    if a[i] == \"(\":\n",
    "         num += 1\n",
    "    elif a[i] == \"(\" and a[i+1] == \")\":\n",
    "        count += num\n",
    "    elif a[i] == \")\":\n",
    "        count += num\n",
    "        num -= 1\n",
    "    elif a[i] == \"(\" and a[i+1] == \"(\" and a[i+2] == \")\" and a[i+3] == \")\":\n",
    "        count += 2\n",
    "        \n",
    "print(count)   \n",
    "        \n",
    "    "
   ]
  },
  {
   "cell_type": "code",
   "execution_count": 9,
   "metadata": {},
   "outputs": [
    {
     "name": "stdout",
     "output_type": "stream",
     "text": [
      "()(((()())(())()))(())\n",
      "['(', ')', '(', '(', '(', '(', ')', '(', ')', ')', '(', '(', ')', ')', '(', ')', ')', ')', '(', '(', ')', ')']\n"
     ]
    }
   ],
   "source": []
  },
  {
   "cell_type": "code",
   "execution_count": null,
   "metadata": {},
   "outputs": [],
   "source": []
  }
 ],
 "metadata": {
  "kernelspec": {
   "display_name": "Python 3",
   "language": "python",
   "name": "python3"
  },
  "language_info": {
   "codemirror_mode": {
    "name": "ipython",
    "version": 3
   },
   "file_extension": ".py",
   "mimetype": "text/x-python",
   "name": "python",
   "nbconvert_exporter": "python",
   "pygments_lexer": "ipython3",
   "version": "3.8.3"
  }
 },
 "nbformat": 4,
 "nbformat_minor": 4
}
