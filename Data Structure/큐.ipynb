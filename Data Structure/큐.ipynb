{
 "cells": [
  {
   "cell_type": "code",
   "execution_count": null,
   "metadata": {},
   "outputs": [],
   "source": [
    "import sys\n",
    "\n",
    "a = int(sys.stdin.readline())\n",
    "queue = []\n",
    "\n",
    "for _ in range(a):\n",
    "    cmd = sys.stdin.readline().split()\n",
    "    \n",
    "    if cmd[0] == \"push\":\n",
    "        queue.append(cmd[1])\n",
    "    elif cmd[0] == \"pop\":\n",
    "        if len(queue) == 0:\n",
    "            print(-1)\n",
    "        else:\n",
    "            print(queue.pop())\n",
    "    elif cmd[0] == \"size\":\n",
    "        print(len(queue))\n",
    "    elif cmd[0] == \"empty\":\n",
    "        if len(queue) == 0:\n",
    "            print(1)\n",
    "        else:\n",
    "            print(0)\n",
    "    elif cmd[0] == \"front\":\n",
    "        if len(queue) == 0:\n",
    "            print(-1)\n",
    "        else:\n",
    "            print(queue[0])\n",
    "    elif cmd[0] == \"back\":\n",
    "        if len(queue) == 0:\n",
    "            print(-1)\n",
    "        else:\n",
    "            print(queue[-1])\n",
    "    \n",
    "    \n",
    "        "
   ]
  }
 ],
 "metadata": {
  "kernelspec": {
   "display_name": "Python 3",
   "language": "python",
   "name": "python3"
  },
  "language_info": {
   "codemirror_mode": {
    "name": "ipython",
    "version": 3
   },
   "file_extension": ".py",
   "mimetype": "text/x-python",
   "name": "python",
   "nbconvert_exporter": "python",
   "pygments_lexer": "ipython3",
   "version": "3.8.3"
  }
 },
 "nbformat": 4,
 "nbformat_minor": 4
}
