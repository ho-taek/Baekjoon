{
 "cells": [
  {
   "cell_type": "code",
   "execution_count": 39,
   "metadata": {},
   "outputs": [
    {
     "name": "stdout",
     "output_type": "stream",
     "text": [
      "7 3\n",
      "<3, 6, 2, 7, 5, 1, 4>\n"
     ]
    }
   ],
   "source": [
    "n, k = map(int,input().split())\n",
    "queue = [i for i in range(1, n+1)]\n",
    "q1 = []\n",
    "x = 0\n",
    "\n",
    "while len(q1) != n:\n",
    "    x = (x + (k-1)) % len(queue)\n",
    "    y = queue.pop(x)\n",
    "    q1.append(str(y))\n",
    "\n",
    "print(\"<%s>\"%(\", \".join(q1)))"
   ]
  },
  {
   "cell_type": "code",
   "execution_count": 55,
   "metadata": {},
   "outputs": [
    {
     "name": "stdout",
     "output_type": "stream",
     "text": [
      "[3, 4]\n"
     ]
    }
   ],
   "source": [
    "s = [1, 3, 4, 8, 13, 17, 20]\n",
    "small_list = []\n",
    "small = s[1] - s[0]\n",
    "for i in range(0, len(s)):\n",
    "    for j in range(1, len(s)):\n",
    "        if s[j] != s[i] and s[j] - s[i] > 0 and s[j] - s[i] < small:\n",
    "            small_list = [s[i],s[j]]\n",
    "            \n",
    "print(small_list)"
   ]
  },
  {
   "cell_type": "code",
   "execution_count": 41,
   "metadata": {},
   "outputs": [
    {
     "name": "stdout",
     "output_type": "stream",
     "text": [
      "1\n",
      "0\n"
     ]
    }
   ],
   "source": []
  },
  {
   "cell_type": "code",
   "execution_count": null,
   "metadata": {},
   "outputs": [],
   "source": []
  }
 ],
 "metadata": {
  "kernelspec": {
   "display_name": "Python 3",
   "language": "python",
   "name": "python3"
  },
  "language_info": {
   "codemirror_mode": {
    "name": "ipython",
    "version": 3
   },
   "file_extension": ".py",
   "mimetype": "text/x-python",
   "name": "python",
   "nbconvert_exporter": "python",
   "pygments_lexer": "ipython3",
   "version": "3.8.3"
  }
 },
 "nbformat": 4,
 "nbformat_minor": 4
}
